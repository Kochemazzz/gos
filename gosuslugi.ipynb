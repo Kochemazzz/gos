{
 "cells": [
  {
   "cell_type": "code",
   "execution_count": 1,
   "id": "e5eb80bb",
   "metadata": {},
   "outputs": [],
   "source": [
    "import openpyxl\n",
    "import time\n",
    "from openpyxl import load_workbook\n",
    "from selenium import webdriver\n",
    "from webdriver_manager.chrome import ChromeDriverManager\n",
    "from selenium.webdriver.common.by import By"
   ]
  },
  {
   "cell_type": "code",
   "execution_count": 3,
   "id": "4499dbd5",
   "metadata": {},
   "outputs": [
    {
     "name": "stdout",
     "output_type": "stream",
     "text": [
      "\n"
     ]
    },
    {
     "name": "stderr",
     "output_type": "stream",
     "text": [
      "[WDM] - ====== WebDriver manager ======\n",
      "[WDM] - Current google-chrome version is 103.0.5060\n",
      "[WDM] - Get LATEST chromedriver version for 103.0.5060 google-chrome\n",
      "[WDM] - Driver [C:\\Users\\kochemazov_ym\\.wdm\\drivers\\chromedriver\\win32\\103.0.5060.134\\chromedriver.exe] found in cache\n",
      "C:\\Users\\KOCHEM~1\\AppData\\Local\\Temp/ipykernel_14888/166245704.py:2: DeprecationWarning: executable_path has been deprecated, please pass in a Service object\n",
      "  driver = webdriver.Chrome(ChromeDriverManager().install())\n"
     ]
    }
   ],
   "source": [
    "# Create object\n",
    "driver = webdriver.Chrome(ChromeDriverManager().install())  \n",
    "# Assign URL\n",
    "url = \"https://esia.gosuslugi.ru/login\"\n",
    "driver.get(url)\n",
    "\n"
   ]
  },
  {
   "cell_type": "code",
   "execution_count": 4,
   "id": "35d859f1",
   "metadata": {},
   "outputs": [
    {
     "ename": "NoSuchElementException",
     "evalue": "Message: no such element: Unable to locate element: {\"method\":\"css selector\",\"selector\":\".gosblue button font-\"}\n  (Session info: chrome=103.0.5060.114)\nStacktrace:\nBacktrace:\n\tOrdinal0 [0x00715FD3+2187219]\n\tOrdinal0 [0x006AE6D1+1763025]\n\tOrdinal0 [0x005C3E78+802424]\n\tOrdinal0 [0x005F1C10+990224]\n\tOrdinal0 [0x005F1EAB+990891]\n\tOrdinal0 [0x0061EC92+1174674]\n\tOrdinal0 [0x0060CBD4+1100756]\n\tOrdinal0 [0x0061CFC2+1167298]\n\tOrdinal0 [0x0060C9A6+1100198]\n\tOrdinal0 [0x005E6F80+946048]\n\tOrdinal0 [0x005E7E76+949878]\n\tGetHandleVerifier [0x009B90C2+2721218]\n\tGetHandleVerifier [0x009AAAF0+2662384]\n\tGetHandleVerifier [0x007A137A+526458]\n\tGetHandleVerifier [0x007A0416+522518]\n\tOrdinal0 [0x006B4EAB+1789611]\n\tOrdinal0 [0x006B97A8+1808296]\n\tOrdinal0 [0x006B9895+1808533]\n\tOrdinal0 [0x006C26C1+1844929]\n\tBaseThreadInitThunk [0x75ADFA29+25]\n\tRtlGetAppContainerNamedObjectPath [0x77057A7E+286]\n\tRtlGetAppContainerNamedObjectPath [0x77057A4E+238]\n",
     "output_type": "error",
     "traceback": [
      "\u001b[1;31m---------------------------------------------------------------------------\u001b[0m",
      "\u001b[1;31mNoSuchElementException\u001b[0m                    Traceback (most recent call last)",
      "\u001b[1;32mC:\\Users\\KOCHEM~1\\AppData\\Local\\Temp/ipykernel_14888/3512275816.py\u001b[0m in \u001b[0;36m<module>\u001b[1;34m\u001b[0m\n\u001b[0;32m      4\u001b[0m \u001b[0mdriver\u001b[0m\u001b[1;33m.\u001b[0m\u001b[0mswitch_to\u001b[0m\u001b[1;33m.\u001b[0m\u001b[0mwindow\u001b[0m\u001b[1;33m(\u001b[0m\u001b[0mdriver\u001b[0m\u001b[1;33m.\u001b[0m\u001b[0mwindow_handles\u001b[0m\u001b[1;33m[\u001b[0m\u001b[1;36m1\u001b[0m\u001b[1;33m]\u001b[0m\u001b[1;33m)\u001b[0m\u001b[1;33m\u001b[0m\u001b[1;33m\u001b[0m\u001b[0m\n\u001b[0;32m      5\u001b[0m \u001b[0mdriver\u001b[0m\u001b[1;33m.\u001b[0m\u001b[0mget\u001b[0m\u001b[1;33m(\u001b[0m\u001b[0mnew_url\u001b[0m\u001b[1;33m)\u001b[0m\u001b[1;33m\u001b[0m\u001b[1;33m\u001b[0m\u001b[0m\n\u001b[1;32m----> 6\u001b[1;33m \u001b[0mform_element_one\u001b[0m \u001b[1;33m=\u001b[0m \u001b[0mdriver\u001b[0m\u001b[1;33m.\u001b[0m\u001b[0mfind_element\u001b[0m\u001b[1;33m(\u001b[0m\u001b[0mBy\u001b[0m\u001b[1;33m.\u001b[0m\u001b[0mCLASS_NAME\u001b[0m\u001b[1;33m,\u001b[0m\u001b[1;34m\"gosblue button font-\"\u001b[0m\u001b[1;33m)\u001b[0m\u001b[1;33m\u001b[0m\u001b[1;33m\u001b[0m\u001b[0m\n\u001b[0m\u001b[0;32m      7\u001b[0m \u001b[0mdriver\u001b[0m\u001b[1;33m.\u001b[0m\u001b[0mimplicitly_wait\u001b[0m\u001b[1;33m(\u001b[0m\u001b[1;36m10\u001b[0m\u001b[1;33m)\u001b[0m\u001b[1;33m\u001b[0m\u001b[1;33m\u001b[0m\u001b[0m\n\u001b[0;32m      8\u001b[0m \u001b[0mform_element_one\u001b[0m\u001b[1;33m.\u001b[0m\u001b[0mclick\u001b[0m\u001b[1;33m(\u001b[0m\u001b[1;33m)\u001b[0m\u001b[1;33m\u001b[0m\u001b[1;33m\u001b[0m\u001b[0m\n",
      "\u001b[1;32mC:\\ProgramData\\Anaconda3\\lib\\site-packages\\selenium\\webdriver\\remote\\webdriver.py\u001b[0m in \u001b[0;36mfind_element\u001b[1;34m(self, by, value)\u001b[0m\n\u001b[0;32m    855\u001b[0m             \u001b[0mvalue\u001b[0m \u001b[1;33m=\u001b[0m \u001b[1;34m'[name=\"%s\"]'\u001b[0m \u001b[1;33m%\u001b[0m \u001b[0mvalue\u001b[0m\u001b[1;33m\u001b[0m\u001b[1;33m\u001b[0m\u001b[0m\n\u001b[0;32m    856\u001b[0m \u001b[1;33m\u001b[0m\u001b[0m\n\u001b[1;32m--> 857\u001b[1;33m         return self.execute(Command.FIND_ELEMENT, {\n\u001b[0m\u001b[0;32m    858\u001b[0m             \u001b[1;34m'using'\u001b[0m\u001b[1;33m:\u001b[0m \u001b[0mby\u001b[0m\u001b[1;33m,\u001b[0m\u001b[1;33m\u001b[0m\u001b[1;33m\u001b[0m\u001b[0m\n\u001b[0;32m    859\u001b[0m             'value': value})['value']\n",
      "\u001b[1;32mC:\\ProgramData\\Anaconda3\\lib\\site-packages\\selenium\\webdriver\\remote\\webdriver.py\u001b[0m in \u001b[0;36mexecute\u001b[1;34m(self, driver_command, params)\u001b[0m\n\u001b[0;32m    433\u001b[0m         \u001b[0mresponse\u001b[0m \u001b[1;33m=\u001b[0m \u001b[0mself\u001b[0m\u001b[1;33m.\u001b[0m\u001b[0mcommand_executor\u001b[0m\u001b[1;33m.\u001b[0m\u001b[0mexecute\u001b[0m\u001b[1;33m(\u001b[0m\u001b[0mdriver_command\u001b[0m\u001b[1;33m,\u001b[0m \u001b[0mparams\u001b[0m\u001b[1;33m)\u001b[0m\u001b[1;33m\u001b[0m\u001b[1;33m\u001b[0m\u001b[0m\n\u001b[0;32m    434\u001b[0m         \u001b[1;32mif\u001b[0m \u001b[0mresponse\u001b[0m\u001b[1;33m:\u001b[0m\u001b[1;33m\u001b[0m\u001b[1;33m\u001b[0m\u001b[0m\n\u001b[1;32m--> 435\u001b[1;33m             \u001b[0mself\u001b[0m\u001b[1;33m.\u001b[0m\u001b[0merror_handler\u001b[0m\u001b[1;33m.\u001b[0m\u001b[0mcheck_response\u001b[0m\u001b[1;33m(\u001b[0m\u001b[0mresponse\u001b[0m\u001b[1;33m)\u001b[0m\u001b[1;33m\u001b[0m\u001b[1;33m\u001b[0m\u001b[0m\n\u001b[0m\u001b[0;32m    436\u001b[0m             response['value'] = self._unwrap_value(\n\u001b[0;32m    437\u001b[0m                 response.get('value', None))\n",
      "\u001b[1;32mC:\\ProgramData\\Anaconda3\\lib\\site-packages\\selenium\\webdriver\\remote\\errorhandler.py\u001b[0m in \u001b[0;36mcheck_response\u001b[1;34m(self, response)\u001b[0m\n\u001b[0;32m    245\u001b[0m                 \u001b[0malert_text\u001b[0m \u001b[1;33m=\u001b[0m \u001b[0mvalue\u001b[0m\u001b[1;33m[\u001b[0m\u001b[1;34m'alert'\u001b[0m\u001b[1;33m]\u001b[0m\u001b[1;33m.\u001b[0m\u001b[0mget\u001b[0m\u001b[1;33m(\u001b[0m\u001b[1;34m'text'\u001b[0m\u001b[1;33m)\u001b[0m\u001b[1;33m\u001b[0m\u001b[1;33m\u001b[0m\u001b[0m\n\u001b[0;32m    246\u001b[0m             \u001b[1;32mraise\u001b[0m \u001b[0mexception_class\u001b[0m\u001b[1;33m(\u001b[0m\u001b[0mmessage\u001b[0m\u001b[1;33m,\u001b[0m \u001b[0mscreen\u001b[0m\u001b[1;33m,\u001b[0m \u001b[0mstacktrace\u001b[0m\u001b[1;33m,\u001b[0m \u001b[0malert_text\u001b[0m\u001b[1;33m)\u001b[0m  \u001b[1;31m# type: ignore[call-arg]  # mypy is not smart enough here\u001b[0m\u001b[1;33m\u001b[0m\u001b[1;33m\u001b[0m\u001b[0m\n\u001b[1;32m--> 247\u001b[1;33m         \u001b[1;32mraise\u001b[0m \u001b[0mexception_class\u001b[0m\u001b[1;33m(\u001b[0m\u001b[0mmessage\u001b[0m\u001b[1;33m,\u001b[0m \u001b[0mscreen\u001b[0m\u001b[1;33m,\u001b[0m \u001b[0mstacktrace\u001b[0m\u001b[1;33m)\u001b[0m\u001b[1;33m\u001b[0m\u001b[1;33m\u001b[0m\u001b[0m\n\u001b[0m\u001b[0;32m    248\u001b[0m \u001b[1;33m\u001b[0m\u001b[0m\n\u001b[0;32m    249\u001b[0m     \u001b[1;32mdef\u001b[0m \u001b[0m_value_or_default\u001b[0m\u001b[1;33m(\u001b[0m\u001b[0mself\u001b[0m\u001b[1;33m,\u001b[0m \u001b[0mobj\u001b[0m\u001b[1;33m:\u001b[0m \u001b[0mMapping\u001b[0m\u001b[1;33m[\u001b[0m\u001b[0m_KT\u001b[0m\u001b[1;33m,\u001b[0m \u001b[0m_VT\u001b[0m\u001b[1;33m]\u001b[0m\u001b[1;33m,\u001b[0m \u001b[0mkey\u001b[0m\u001b[1;33m:\u001b[0m \u001b[0m_KT\u001b[0m\u001b[1;33m,\u001b[0m \u001b[0mdefault\u001b[0m\u001b[1;33m:\u001b[0m \u001b[0m_VT\u001b[0m\u001b[1;33m)\u001b[0m \u001b[1;33m->\u001b[0m \u001b[0m_VT\u001b[0m\u001b[1;33m:\u001b[0m\u001b[1;33m\u001b[0m\u001b[1;33m\u001b[0m\u001b[0m\n",
      "\u001b[1;31mNoSuchElementException\u001b[0m: Message: no such element: Unable to locate element: {\"method\":\"css selector\",\"selector\":\".gosblue button font-\"}\n  (Session info: chrome=103.0.5060.114)\nStacktrace:\nBacktrace:\n\tOrdinal0 [0x00715FD3+2187219]\n\tOrdinal0 [0x006AE6D1+1763025]\n\tOrdinal0 [0x005C3E78+802424]\n\tOrdinal0 [0x005F1C10+990224]\n\tOrdinal0 [0x005F1EAB+990891]\n\tOrdinal0 [0x0061EC92+1174674]\n\tOrdinal0 [0x0060CBD4+1100756]\n\tOrdinal0 [0x0061CFC2+1167298]\n\tOrdinal0 [0x0060C9A6+1100198]\n\tOrdinal0 [0x005E6F80+946048]\n\tOrdinal0 [0x005E7E76+949878]\n\tGetHandleVerifier [0x009B90C2+2721218]\n\tGetHandleVerifier [0x009AAAF0+2662384]\n\tGetHandleVerifier [0x007A137A+526458]\n\tGetHandleVerifier [0x007A0416+522518]\n\tOrdinal0 [0x006B4EAB+1789611]\n\tOrdinal0 [0x006B97A8+1808296]\n\tOrdinal0 [0x006B9895+1808533]\n\tOrdinal0 [0x006C26C1+1844929]\n\tBaseThreadInitThunk [0x75ADFA29+25]\n\tRtlGetAppContainerNamedObjectPath [0x77057A7E+286]\n\tRtlGetAppContainerNamedObjectPath [0x77057A4E+238]\n"
     ]
    }
   ],
   "source": [
    "# time.sleep(100)\n",
    "new_url = \"https://www.gosuslugi.ru/609985/1/form\"\n",
    "driver.execute_script(\"window.open('');\")\n",
    "driver.switch_to.window(driver.window_handles[1])\n",
    "driver.get(new_url)\n",
    "form_element_one = driver.find_element(By.CLASS_NAME,\"gosblue button font-\")\n",
    "driver.implicitly_wait(10)\n",
    "form_element_one.click()"
   ]
  },
  {
   "cell_type": "code",
   "execution_count": 5,
   "id": "c0107008",
   "metadata": {},
   "outputs": [],
   "source": [
    "form_element_one = driver.find_element(By.CSS_SELECTOR,\"button.gosblue.button.font-\")\n",
    "driver.implicitly_wait(10)\n",
    "form_element_one.click()"
   ]
  },
  {
   "cell_type": "code",
   "execution_count": 6,
   "id": "a561ecb6",
   "metadata": {},
   "outputs": [],
   "source": [
    "form_element_two = driver.find_element(By.CSS_SELECTOR,\"button.gosblue.button.font-\")\n",
    "driver.implicitly_wait(10)\n",
    "form_element_two.click()"
   ]
  },
  {
   "cell_type": "code",
   "execution_count": 7,
   "id": "927f53d9",
   "metadata": {},
   "outputs": [],
   "source": [
    "form_element_three = driver.find_element(By.CLASS_NAME,\"house-checkbox\")\n",
    "driver.implicitly_wait(10)\n",
    "form_element_three.click()\n",
    "\n",
    "form_element_four = driver.find_element(By.CLASS_NAME,\"apartment-checkbox\")\n",
    "driver.implicitly_wait(10)\n",
    "form_element_four.click()\n",
    "\n",
    "form_element_five = driver.find_element(By.CSS_SELECTOR,\"button.gosblue.button.font-\")\n",
    "driver.implicitly_wait(10)\n",
    "form_element_five.click()"
   ]
  },
  {
   "cell_type": "code",
   "execution_count": 8,
   "id": "8224bbd6",
   "metadata": {},
   "outputs": [],
   "source": [
    "form_element_six = driver.find_element(By.CSS_SELECTOR,\"button.gosblue.button.font-\")\n",
    "driver.implicitly_wait(10)\n",
    "form_element_six.click()"
   ]
  },
  {
   "cell_type": "code",
   "execution_count": 9,
   "id": "9973e40a",
   "metadata": {},
   "outputs": [],
   "source": [
    "form_element_seven = driver.find_element(By.CSS_SELECTOR,\"button.gosblue.button.font-\")\n",
    "driver.implicitly_wait(10)\n",
    "form_element_seven.click()"
   ]
  },
  {
   "cell_type": "code",
   "execution_count": 15,
   "id": "b33d65db",
   "metadata": {},
   "outputs": [],
   "source": [
    "form_element_eight = driver.find_element(By.CSS_SELECTOR,\"button.btn--white.btn--shadow\")\n",
    "driver.implicitly_wait(10)\n",
    "form_element_eight.click()\n",
    "\n",
    "#"
   ]
  },
  {
   "cell_type": "code",
   "execution_count": 16,
   "id": "a9d02e03",
   "metadata": {},
   "outputs": [],
   "source": [
    "form_element_nine = driver.find_element(By.CSS_SELECTOR,\"button.gosblue.button.font-\")\n",
    "driver.implicitly_wait(10)\n",
    "form_element_nine.click()"
   ]
  },
  {
   "cell_type": "code",
   "execution_count": null,
   "id": "7ec6a402",
   "metadata": {},
   "outputs": [],
   "source": []
  },
  {
   "cell_type": "code",
   "execution_count": null,
   "id": "98006903",
   "metadata": {},
   "outputs": [],
   "source": []
  }
 ],
 "metadata": {
  "kernelspec": {
   "display_name": "Python 3 (ipykernel)",
   "language": "python",
   "name": "python3"
  },
  "language_info": {
   "codemirror_mode": {
    "name": "ipython",
    "version": 3
   },
   "file_extension": ".py",
   "mimetype": "text/x-python",
   "name": "python",
   "nbconvert_exporter": "python",
   "pygments_lexer": "ipython3",
   "version": "3.9.7"
  }
 },
 "nbformat": 4,
 "nbformat_minor": 5
}
